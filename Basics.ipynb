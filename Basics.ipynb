{
 "cells": [
  {
   "cell_type": "markdown",
   "metadata": {
    "collapsed": true
   },
   "source": [
    "# Como obtener mas vistas en hacker news !!"
   ]
  },
  {
   "cell_type": "markdown",
   "metadata": {},
   "source": [
    "En este proyecto exploraremos datos obtenidos de hacker news, estos datos son un amuestra representativa de 20,000 registros de un universo total de 300,000. Analizaremos que tipo de entradas tienen mas puntos si las realcionadas a preguntas 'Ask HN' o las relacionadas a mostrar algun tema 'Show HN'. "
   ]
  },
  {
   "cell_type": "code",
   "execution_count": 1,
   "metadata": {
    "collapsed": false
   },
   "outputs": [],
   "source": [
    "#importamos nuestro archivo sin cabecero a la variable hn\n",
    "from csv import reader\n",
    "open_file = open('hacker_news.csv')\n",
    "reader_file  = reader(open_file)\n",
    "hn = list(reader_file)\n",
    "# almacenamos el header en una variable separada\n",
    "headers  = hn[:1]\n",
    "# eliminamos el header\n",
    "hn = hn[1:]\n"
   ]
  },
  {
   "cell_type": "code",
   "execution_count": 2,
   "metadata": {
    "collapsed": false
   },
   "outputs": [
    {
     "name": "stdout",
     "output_type": "stream",
     "text": [
      "[['id', 'title', 'url', 'num_points', 'num_comments', 'author', 'created_at']]\n"
     ]
    }
   ],
   "source": [
    "# hechamos un vistazo al cabecero\n",
    "print(headers)"
   ]
  },
  {
   "cell_type": "code",
   "execution_count": 3,
   "metadata": {
    "collapsed": false
   },
   "outputs": [
    {
     "name": "stdout",
     "output_type": "stream",
     "text": [
      "[['12224879', 'Interactive Dynamic Video', 'http://www.interactivedynamicvideo.com/', '386', '52', 'ne0phyte', '8/4/2016 11:52'], ['10975351', 'How to Use Open Source and Shut the Fuck Up at the Same Time', 'http://hueniverse.com/2016/01/26/how-to-use-open-source-and-shut-the-fuck-up-at-the-same-time/', '39', '10', 'josep2', '1/26/2016 19:30'], ['11964716', \"Florida DJs May Face Felony for April Fools' Water Joke\", 'http://www.thewire.com/entertainment/2013/04/florida-djs-april-fools-water-joke/63798/', '2', '1', 'vezycash', '6/23/2016 22:20'], ['11919867', 'Technology ventures: From Idea to Enterprise', 'https://www.amazon.com/Technology-Ventures-Enterprise-Thomas-Byers/dp/0073523429', '3', '1', 'hswarna', '6/17/2016 0:01'], ['10301696', 'Note by Note: The Making of Steinway L1037 (2007)', 'http://www.nytimes.com/2007/11/07/movies/07stein.html?_r=0', '8', '2', 'walterbell', '9/30/2015 4:12']]\n"
     ]
    }
   ],
   "source": [
    "# hechamos un vistazo a los primeros 5 registros\n",
    "print(hn[:5])"
   ]
  },
  {
   "cell_type": "markdown",
   "metadata": {},
   "source": [
    "## Limpiando nuestros datos"
   ]
  },
  {
   "cell_type": "markdown",
   "metadata": {},
   "source": [
    "Ahora deseamos solo obtener las entradas que inicien con 'Ask HN' o 'Show HN' ya que nuestra lista tiene todo tipo de entradas y el análisis solo se enfoca en los dos tipos anteriores."
   ]
  },
  {
   "cell_type": "code",
   "execution_count": 4,
   "metadata": {
    "collapsed": false
   },
   "outputs": [],
   "source": [
    "# separamos nuestros diferentes tipos de posts\n",
    "ask_posts=[]\n",
    "show_posts=[]\n",
    "other_posts=[]\n",
    "\n",
    "for post in hn:\n",
    "    title = post[1]\n",
    "    if title.lower().startswith('ask hn'):\n",
    "        ask_posts.append(post)\n",
    "    elif title.lower().startswith('show hn'):\n",
    "        show_posts.append(post)\n",
    "    else:\n",
    "        other_posts.append(post)\n",
    "\n",
    "\n"
   ]
  },
  {
   "cell_type": "markdown",
   "metadata": {},
   "source": [
    "Mostramos la cantidad de cada tipo de post obtenidos"
   ]
  },
  {
   "cell_type": "code",
   "execution_count": 5,
   "metadata": {
    "collapsed": false
   },
   "outputs": [
    {
     "name": "stdout",
     "output_type": "stream",
     "text": [
      "Number of ask posts: 1744\n",
      "Number of show posts: 1162\n",
      "Number of other posts: 17194\n"
     ]
    }
   ],
   "source": [
    "print(\"Number of ask posts: {}\".format(len(ask_posts)))\n",
    "print(\"Number of show posts: {0}\".format(len(show_posts)))\n",
    "print(\"Number of other posts: {0}\".format(len(other_posts)))"
   ]
  },
  {
   "cell_type": "markdown",
   "metadata": {},
   "source": [
    "Exploremos los primeros 5 registros de los post 'ask hn'"
   ]
  },
  {
   "cell_type": "code",
   "execution_count": 6,
   "metadata": {
    "collapsed": false
   },
   "outputs": [
    {
     "name": "stdout",
     "output_type": "stream",
     "text": [
      "[['12296411', 'Ask HN: How to improve my personal website?', '', '2', '6', 'ahmedbaracat', '8/16/2016 9:55'], ['10610020', 'Ask HN: Am I the only one outraged by Twitter shutting down share counts?', '', '28', '29', 'tkfx', '11/22/2015 13:43'], ['11610310', 'Ask HN: Aby recent changes to CSS that broke mobile?', '', '1', '1', 'polskibus', '5/2/2016 10:14'], ['12210105', 'Ask HN: Looking for Employee #3 How do I do it?', '', '1', '3', 'sph130', '8/2/2016 14:20'], ['10394168', 'Ask HN: Someone offered to buy my browser extension from me. What now?', '', '28', '17', 'roykolak', '10/15/2015 16:38']]\n"
     ]
    }
   ],
   "source": [
    "print(ask_posts[:5])"
   ]
  },
  {
   "cell_type": "markdown",
   "metadata": {},
   "source": [
    "Ahora exploremos los primeros 5 registros de 'show hn'"
   ]
  },
  {
   "cell_type": "code",
   "execution_count": 7,
   "metadata": {
    "collapsed": false
   },
   "outputs": [
    {
     "name": "stdout",
     "output_type": "stream",
     "text": [
      "[['10627194', 'Show HN: Wio Link  ESP8266 Based Web of Things Hardware Development Platform', 'https://iot.seeed.cc', '26', '22', 'kfihihc', '11/25/2015 14:03'], ['10646440', 'Show HN: Something pointless I made', 'http://dn.ht/picklecat/', '747', '102', 'dhotson', '11/29/2015 22:46'], ['11590768', 'Show HN: Shanhu.io, a programming playground powered by e8vm', 'https://shanhu.io', '1', '1', 'h8liu', '4/28/2016 18:05'], ['12178806', 'Show HN: Webscope  Easy way for web developers to communicate with Clients', 'http://webscopeapp.com', '3', '3', 'fastbrick', '7/28/2016 7:11'], ['10872799', 'Show HN: GeoScreenshot  Easily test Geo-IP based web pages', 'https://www.geoscreenshot.com/', '1', '9', 'kpsychwave', '1/9/2016 20:45']]\n"
     ]
    }
   ],
   "source": [
    "print(show_posts[:5])"
   ]
  },
  {
   "cell_type": "markdown",
   "metadata": {},
   "source": [
    "## Ask HN vs Show HN"
   ]
  },
  {
   "cell_type": "markdown",
   "metadata": {},
   "source": [
    "Ahora determinaremos que tipo de posts recibe mas comentarios en promedio."
   ]
  },
  {
   "cell_type": "markdown",
   "metadata": {},
   "source": [
    "### Ask HN comments"
   ]
  },
  {
   "cell_type": "code",
   "execution_count": 8,
   "metadata": {
    "collapsed": false
   },
   "outputs": [
    {
     "name": "stdout",
     "output_type": "stream",
     "text": [
      "Total post to Ask HN: 1744\n",
      "Total comments to Ask HN: 24483\n",
      "Average comments to Ask HN: 14.038417\n"
     ]
    }
   ],
   "source": [
    "total_ask_comments = 0\n",
    "\n",
    "for post in ask_posts:\n",
    "    num_comments = int(post[4])\n",
    "    total_ask_comments += num_comments\n",
    "    \n",
    "avg_ask_comments = total_ask_comments /len(ask_posts)\n",
    "print(\"Total post to Ask HN: {}\".format(len(ask_posts)))\n",
    "print(\"Total comments to Ask HN: {}\".format(total_ask_comments))\n",
    "print(\"Average comments to Ask HN: {:2f}\".format(avg_ask_comments))\n",
    "    \n",
    "    "
   ]
  },
  {
   "cell_type": "markdown",
   "metadata": {},
   "source": [
    "### Show HN comments"
   ]
  },
  {
   "cell_type": "code",
   "execution_count": 9,
   "metadata": {
    "collapsed": false
   },
   "outputs": [
    {
     "name": "stdout",
     "output_type": "stream",
     "text": [
      "Total posts to Show HN: 1162\n",
      "Total comments to Show HN: 11988\n",
      "Average comments to Show HN: 10.316695\n"
     ]
    }
   ],
   "source": [
    "total_show_comments = 0\n",
    "\n",
    "for post in show_posts:\n",
    "    num_comments = int(post[4])\n",
    "    total_show_comments += num_comments\n",
    "\n",
    "avg_show_comments = total_show_comments / len(show_posts)\n",
    "print(\"Total posts to Show HN: {}\".format(len(show_posts)))\n",
    "print(\"Total comments to Show HN: {}\".format(total_show_comments))\n",
    "print(\"Average comments to Show HN: {:2f}\".format(avg_show_comments))"
   ]
  },
  {
   "cell_type": "markdown",
   "metadata": {},
   "source": [
    "### Ganador con mayor promedio de comentarios"
   ]
  },
  {
   "cell_type": "markdown",
   "metadata": {},
   "source": [
    "Despues de obtener el promedio de cada uno de estos tipos de post podemos decir que los tipos de post 'Ask HN' tienen un promedio mayor de comentarios con un total de 14.03 % contra un 10.31 % de los post 'Show HN', pero ademas de esto podemos ver que la cantidad de comentarios en general para 'Ask posts' supera por un gran rango a su contrincante."
   ]
  },
  {
   "cell_type": "markdown",
   "metadata": {},
   "source": [
    "### Promedio de comentarios por hora para el ganador Ask post"
   ]
  },
  {
   "cell_type": "markdown",
   "metadata": {},
   "source": [
    "Obtendremos un promedio por hora de comentarios, esto con el fin de saber cual es la hora mas indicada para postear y recibir mas comentarios ese día."
   ]
  },
  {
   "cell_type": "code",
   "execution_count": 20,
   "metadata": {
    "collapsed": false
   },
   "outputs": [
    {
     "name": "stdout",
     "output_type": "stream",
     "text": [
      "[['06', 9.022727272727273], ['13', 14.741176470588234], ['15', 38.5948275862069], ['21', 16.009174311926607], ['02', 23.810344827586206], ['10', 13.440677966101696], ['05', 10.08695652173913], ['04', 7.170212765957447], ['18', 13.20183486238532], ['16', 16.796296296296298], ['03', 7.796296296296297], ['08', 10.25], ['23', 7.985294117647059], ['12', 9.41095890410959], ['14', 13.233644859813085], ['22', 6.746478873239437], ['20', 21.525], ['01', 11.383333333333333], ['09', 5.5777777777777775], ['00', 8.127272727272727], ['07', 7.852941176470588], ['17', 11.46], ['11', 11.051724137931034], ['19', 10.8]]\n"
     ]
    }
   ],
   "source": [
    "#Obtenemos el promedio por cada hora\n",
    "import datetime as dt\n",
    "result_list = []\n",
    "\n",
    "for post in ask_posts:\n",
    "    comment_post = []\n",
    "    comment_post.append(post[6])\n",
    "    comment_post.append(int(post[4]))\n",
    "    result_list.append(comment_post)\n",
    "    \n",
    "counts_by_hour = {}\n",
    "comments_by_hour = {}\n",
    "\n",
    "for comment in result_list:\n",
    "    date_comment = dt.datetime.strptime(comment[0],\"%m/%d/%Y %H:%M\")\n",
    "    int_hr = dt.datetime.strftime(date_comment, \"%H\")\n",
    "    if int_hr in counts_by_hour:\n",
    "        counts_by_hour[int_hr] +=1\n",
    "        comments_by_hour[int_hr]+= int(comment[1])\n",
    "    else:\n",
    "        counts_by_hour[int_hr] =1\n",
    "        comments_by_hour[int_hr]= int(comment[1])\n",
    "\n",
    "avg_by_hour = []\n",
    "for hour_post in counts_by_hour:\n",
    "    avg_by_hour.append([hour_post, comments_by_hour[hour_post]/counts_by_hour[hour_post]])\n",
    "    \n",
    "print(avg_by_hour)"
   ]
  },
  {
   "cell_type": "code",
   "execution_count": 27,
   "metadata": {
    "collapsed": false
   },
   "outputs": [
    {
     "name": "stdout",
     "output_type": "stream",
     "text": [
      "[[9.022727272727273, '06'], [14.741176470588234, '13'], [38.5948275862069, '15'], [16.009174311926607, '21'], [23.810344827586206, '02'], [13.440677966101696, '10'], [10.08695652173913, '05'], [7.170212765957447, '04'], [13.20183486238532, '18'], [16.796296296296298, '16'], [7.796296296296297, '03'], [10.25, '08'], [7.985294117647059, '23'], [9.41095890410959, '12'], [13.233644859813085, '14'], [6.746478873239437, '22'], [21.525, '20'], [11.383333333333333, '01'], [5.5777777777777775, '09'], [8.127272727272727, '00'], [7.852941176470588, '07'], [11.46, '17'], [11.051724137931034, '11'], [10.8, '19']]\n"
     ]
    }
   ],
   "source": [
    "#Ordenamos de mayor a menor por promedio\n",
    "swap_avg_by_hour = []\n",
    "for post in avg_by_hour :\n",
    "    swap_avg_by_hour.append([post[1],post[0]])\n",
    "\n",
    "print(swap_avg_by_hour)\n",
    "\n",
    "sorted_swap = sorted(swap_avg_by_hour, reverse = True)\n",
    "\n",
    "    "
   ]
  },
  {
   "cell_type": "markdown",
   "metadata": {},
   "source": [
    "Este es el top 5 de horas para que tu post reciba mas comentarios."
   ]
  },
  {
   "cell_type": "code",
   "execution_count": 28,
   "metadata": {
    "collapsed": false
   },
   "outputs": [
    {
     "name": "stdout",
     "output_type": "stream",
     "text": [
      "\n",
      "Top 5 Horas para comentarios de Ask posts (24hrs:promedio) \n",
      "\n",
      "15:00:38.59\n",
      "02:00:23.81\n",
      "20:00:21.52\n",
      "16:00:16.80\n",
      "21:00:16.01\n"
     ]
    }
   ],
   "source": [
    "\n",
    "print(\"\\nTop 5 Horas para comentarios de Ask posts (24hrs:promedio) \\n\")\n",
    "\n",
    "for hour_avg in sorted_swap[:5]:\n",
    "    hour_day = dt.datetime.strptime(hour_avg[1],\"%H\")\n",
    "    hour_day = dt.datetime.strftime(hour_day,\"%H:00\")\n",
    "    average_post = float(hour_avg[0])\n",
    "    print(\"{0}:{1:.2f}\".format(hour_day, average_post))\n",
    "    "
   ]
  },
  {
   "cell_type": "code",
   "execution_count": null,
   "metadata": {
    "collapsed": true
   },
   "outputs": [],
   "source": []
  }
 ],
 "metadata": {
  "kernelspec": {
   "display_name": "Python 3",
   "language": "python",
   "name": "python3"
  },
  "language_info": {
   "codemirror_mode": {
    "name": "ipython",
    "version": 3
   },
   "file_extension": ".py",
   "mimetype": "text/x-python",
   "name": "python",
   "nbconvert_exporter": "python",
   "pygments_lexer": "ipython3",
   "version": "3.4.3"
  }
 },
 "nbformat": 4,
 "nbformat_minor": 2
}
